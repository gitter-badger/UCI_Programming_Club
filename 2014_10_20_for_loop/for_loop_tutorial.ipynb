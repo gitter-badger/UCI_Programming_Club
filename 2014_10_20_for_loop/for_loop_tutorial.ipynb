{
 "metadata": {
  "name": "for_loop_tutorial"
 },
 "nbformat": 3,
 "nbformat_minor": 0,
 "worksheets": [
  {
   "cells": [
    {
     "cell_type": "code",
     "collapsed": false,
     "input": "# -*- coding: utf-8 -*-\n\"\"\"\nFor tutorial\nThe goal of this tutorial is to go through the \nbasic logic of how for loops work\nand when to use them.\n\nIt will then discuss using for loops \non arrays and in multiple dimensions.\n\nThis assumes you have done the previous intro\ntutorial, if not, consider running through it.\n\"\"\"\n\"\"\"\nAt it's simpelist, a for loop says:\n\"Do all this indented stuff a number\nof times equal to the length of this list\nand move the list forward one item each time\nyou do that\"\nto test this, write out the following code:\ni=1\nlist=['a','b','c','d','e']\nfor items in list:\n    print i\n    print items\n    i=i+1\n\"\"\"\n#your code here\n\n\n\n\n\n\n#Run it now\n\"\"\"\nGo back up and erase one of the\nitems from your list run it, \ndid it do as you expected?\nNow add an item or two to your list, run it\ndid it do as you anticipated?\n\nNow let's play with syntax. Go back amd\nchange items into stuffz, be sure to change\nitems into stuffz on both lines it is called.\n\nThat variable, whatever you declare it as, will move\nthrough your list one item at a time.\n\"\"\"",
     "language": "python",
     "metadata": {},
     "outputs": []
    },
    {
     "cell_type": "code",
     "collapsed": false,
     "input": "\"\"\"\nFor loops within for loops:\n    \nFor loops can be embedded inside each other.\nEach time the outer loop runs\nthe internal loop with fully run.\nto test this make two lists\nlist1=[1,2,3,4,5]\nlist2=['a','b','c','d']\nmake two for loops embedded in each other\nwit hthe synatx\nfor items in list1:\n    for stuff in list2:\n        \nprint the results  from bothe lists inside the second loop. \nnow print the results from the first list above the second loop\nloop two should run\n20 times.\n\"\"\"\n#your code here\n\n\n\n\n\n\n\n\n#Run it now",
     "language": "python",
     "metadata": {},
     "outputs": []
    },
    {
     "cell_type": "code",
     "collapsed": false,
     "input": "\"\"\"\nThe len command\nlen returns the length of a list.\nmake a list with four elements\nthen  print len(yourlist)\n\n\"\"\"\n# your code here\n\n\n#run it now\n\"\"\"\nlen combined with range.\nChange the above to print range(len(yourlist))\nRun it\n\"\"\"",
     "language": "python",
     "metadata": {},
     "outputs": []
    },
    {
     "cell_type": "code",
     "collapsed": false,
     "input": "\"\"\"\nNow you can make an indexed forloop.\nthe basic syntax is:\nfor indexes in range(len(yourlist)):\n\nmake a list of five items and try this\n\nfor indexes in range(len(yourlist)):\n    print yourlist[indexes]\n\nThis produces the same results as\nfor items in yourlist\n    print items\n    \n\"\"\"\n# your code here\n\n\n\n#run it now\n\"\"\"\nnote these loops are just running through \nthe list produced by the range command\nmodify your above list to print\nindexes\nrun it\n\"\"\"",
     "language": "python",
     "metadata": {},
     "outputs": []
    },
    {
     "cell_type": "code",
     "collapsed": false,
     "input": "\"\"\"\nThis is useful if you want to move through two lists\nthat are lined up.\nSimilar to the example in class:\nMake two lists\nage=[1,2,3,4,5]\nkidnames=['bob','jill','helevetica','john','phil]\nnow type out the following\nrecall we combine strings with +\nfor index in range(len(age)):\n    numstr= str(age[index]) # this is because you can't combine numbers and strings\n    print kidnames[index]+\" is \"+numstr+\" years old.\"\n\"\"\"\n# your code here\n\n\n\n\n\n#run it now",
     "language": "python",
     "metadata": {},
     "outputs": []
    },
    {
     "cell_type": "code",
     "collapsed": false,
     "input": "\"\"\"\n\nimport numpy as np below\n\"\"\"\n#here\n\n#run it now",
     "language": "python",
     "metadata": {},
     "outputs": []
    },
    {
     "cell_type": "code",
     "collapsed": false,
     "input": "\"\"\"\nremember to declare numpy arrays we use the following syntax:\nyourArray=np.array([[1,2,3],[19,39,29],[109,209,309]])\nEssentially it is a 'list of lists' that contain only numbers\ndeclare and print yourArray from above\n\"\"\"\n# your code here\n\n\n#run it now",
     "language": "python",
     "metadata": {},
     "outputs": []
    },
    {
     "cell_type": "code",
     "collapsed": false,
     "input": "\"\"\"\nHow to pull specific items out of an array:\nArrays are just like lists except\nelement one controls what Row you are in \nElement two controls what column you are in.\nso \nyourArray[1,2] would equal 29\nusing yourArray print out 109 \nthen 39\nthen 2\n\"\"\"\n# your code here\n\n\n\n#run it now",
     "language": "python",
     "metadata": {},
     "outputs": []
    },
    {
     "cell_type": "code",
     "collapsed": false,
     "input": "\"\"\"\nCombining this with loops:\nthe np.shape commmand is like len in two directions\nrun it on yourarray from above:\nprint np.shape(yourArray)\n\"\"\"\n# your code here\n\n#run it now",
     "language": "python",
     "metadata": {},
     "outputs": []
    },
    {
     "cell_type": "code",
     "collapsed": false,
     "input": "\"\"\"\nMake a variable \nHugeArray=np.array([[5,6,76,56,45],[23,45,23,15,1000],[1293,45452,2323,32,1],[1,2,3,4,5]])\nprint HugeArray by columns using a for loop. and the above\n(consider declaring a variable called size=np.shape(HugeArray))\n(then loop through the range(size[1]) or the second element of size\n(Answer below)\n\"\"\"\n# your code here\n\n\n\n\n\n#run it now\n\"\"\"\nsize=np.shape(HugeArray)\nfor columnidx in range(size[1]):\n    print HugeArray[:,columnidx] #print all numbers in each column\n\"\"\"",
     "language": "python",
     "metadata": {},
     "outputs": []
    },
    {
     "cell_type": "code",
     "collapsed": false,
     "input": "\"\"\"\nChange the above so it prints by rows\n\"\"\"\n# your code here\n\n\n\n#run it now",
     "language": "python",
     "metadata": {},
     "outputs": []
    },
    {
     "cell_type": "code",
     "collapsed": false,
     "input": "\"\"\"\nNow lets use a 2 layer for loop to go to each element of \nHugeArray and divide them by 20 then square the result, then\nadd 3 then write it back into HugeArray\nDon't worry if you don't totally ge this\nsize=np.shape(HugeArray)\nfor rowidx in range(size[0]):\n    for colidx in range(size[1]):\n        Temp=HugeArray[rowidx,colidx]\n        print Temp\n        Temp=(Temp/20)**2+3\n        print Temp\n        HugeArray[rowidx,colidx]=Temp\nAs you can see, you can actually write back into arrays with loops!.\n\"\"\"\n# your code here\n\n\n\n\n\n\n\n#run it now",
     "language": "python",
     "metadata": {},
     "outputs": []
    },
    {
     "cell_type": "code",
     "collapsed": false,
     "input": "\"\"\"\nmodify the above so it makes a new variable:\nListofResults\nDeclare ListofResults (above the declaration of size)\nListofResults=[]\nnow for the internal loop append the results to ListofResults.\nOutside the loops and after them (tabbed back to the edge) print ListofResults\n\"\"\"\n\"\"\"\nThe above is fairly crucial, play with it until you have\na feel for it\"\"\"",
     "language": "python",
     "metadata": {},
     "outputs": []
    }
   ],
   "metadata": {}
  }
 ]
}