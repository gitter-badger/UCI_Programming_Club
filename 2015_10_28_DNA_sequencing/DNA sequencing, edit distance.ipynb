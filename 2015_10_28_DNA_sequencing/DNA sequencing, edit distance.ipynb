{
 "cells": [
  {
   "cell_type": "markdown",
   "metadata": {},
   "source": [
    "# The Problem:  Find the edit distance."
   ]
  },
  {
   "cell_type": "markdown",
   "metadata": {},
   "source": [
    "Much of this material is borrowed from the excellent Coursera course <a href='https://www.coursera.org/course/ads1'>Algorithms for DNA Sequencing</a>.  I strongly recommend this course for anyone interested in DNA sequencing; the knowledge-to-effort ratio is extremely high.\n",
    "\n",
    "On to our problem!  Suppose we have two DNA sequences, one of which is a mutated version of the other.  Say the original sequence is 'ATTGCGA' and the mutated version is 'ATGGGA'.  If you look carefully, you can determine how many mutations occured between the two sequences.  Mutations include base pair substitutions, insertation, and deletions.  The minimum number of mutations required to turn one sequence into another is called the <em>edit distance</em>.  The question today is: can we write a program that finds the edit distance?  "
   ]
  },
  {
   "cell_type": "code",
   "execution_count": 44,
   "metadata": {
    "collapsed": false
   },
   "outputs": [
    {
     "name": "stdout",
     "output_type": "stream",
     "text": [
      "Yes we can!!\n"
     ]
    }
   ],
   "source": [
    "def answer():\n",
    "    print(\"Yes we can!!\")\n",
    "answer()"
   ]
  },
  {
   "cell_type": "markdown",
   "metadata": {},
   "source": [
    "# The Algorithm"
   ]
  },
  {
   "cell_type": "markdown",
   "metadata": {},
   "source": [
    "How should we go about it?  Let's call our first DNA sequence $X$ and our second DNA sequence $Y$.  Let's take a chunk of each sequence.  It doesn't matter where we take it from.  Let's call the chunk from the first sequence $\\alpha$ and the chunk from the second $\\beta$.  Assume we already know the edit distance between $\\alpha$ and $\\beta$.  Let's try to find the edit distance between $\\alpha$ plus one base (called $x$) and $\\beta$ plus one base (called $y$). So we are trying to find the edit distance from $\\alpha x$ to $\\beta y$. \n",
    "\n",
    "The key insight is that there are only three ways to make to make the sequence $\\beta y$ from $\\alpha x$.\n",
    "1. Edit $\\alpha$ to $\\beta$, then add a final base.  If this base is the same betweeen $X$ and $Y$, then this doesn't increase our edit distance.  If it is different, it increases the edit distance by 1. \n",
    "2. Edit $\\alpha x$ to $\\beta$, then add a final base to $\\beta$.  This increases the edit distance by 1.\n",
    "3. Edit $\\alpha$ to $\\beta y$, then add a final base to $\\alpha$.  This increases the edit distance by 1.\n",
    "\n",
    "Because our edit distance from $\\alpha x$ to $\\beta y$ can only be constructed these three different ways, if we take the minimum of these three terms, we can get the edit distance.  This is written mathematically below:"
   ]
  },
  {
   "cell_type": "markdown",
   "metadata": {},
   "source": [
    "$$\n",
    "\\delta (x,y) = \\begin{cases}\n",
    "    1, \\text{if $x=y$} \\\\\n",
    "    0, \\text{otherwise}\n",
    "    \\end{cases}\n",
    "$$\n",
    "\n",
    "$$\n",
    "\\text{edist}(\\alpha x, \\beta y)=\\text{min}\\begin{cases}\n",
    "    \\text{edist}(\\alpha, \\beta)+\\delta (x,y)\\\\\n",
    "    \\text{edist}(\\alpha x, \\beta)+1\\\\\n",
    "    \\text{edist}(\\alpha, \\beta y)+1\n",
    "  \\end{cases}\n",
    "$$"
   ]
  },
  {
   "cell_type": "markdown",
   "metadata": {},
   "source": [
    "We can find the edit distance between sequence X and Y by finding the edit distance of every sub-sequence of X and Y iteratively, using the above equation.  To do this, let's fill out the table below.  The original sequence is on the left, the modified sequence is on the top.  $\\epsilon$ stands for the empty string.  We will fill out some of these entries in programming club so you can get a feel for it."
   ]
  },
  {
   "cell_type": "markdown",
   "metadata": {},
   "source": [
    "<img src=\"editDistance.png\">"
   ]
  },
  {
   "cell_type": "markdown",
   "metadata": {},
   "source": [
    "Now hopefully you have a feel for how we can use the algorithm to fill out the table.  The bottom right entry is the edit distance between the two sequences.  Let's write up our algorithm in code! This is going to be challenging, but I'm sure we can think through it together."
   ]
  },
  {
   "cell_type": "markdown",
   "metadata": {},
   "source": [
    "#  \n",
    "#  \n",
    "#  \n",
    "#  \n",
    "#  \n",
    "#  \n",
    "# Warning! Solution Below!!\n",
    "#  \n",
    "#  \n",
    "#  \n",
    "#  \n",
    "#  \n",
    "#  \n",
    "#  \n",
    "#  \n",
    "#  \n",
    "#  \n",
    "#  \n",
    "#  \n",
    "#  \n",
    "#  \n",
    "#  \n",
    "#  \n",
    "#  \n",
    "#  \n",
    "#  \n",
    "#  \n",
    "#  "
   ]
  },
  {
   "cell_type": "markdown",
   "metadata": {},
   "source": [
    "# The Solution"
   ]
  },
  {
   "cell_type": "code",
   "execution_count": 45,
   "metadata": {
    "collapsed": true
   },
   "outputs": [],
   "source": [
    "import numpy as np\n",
    "def editDistance(x,y):\n",
    "    # initialize D as an array to hold all of our values\n",
    "    D=np.zeros((len(x)+1,len(y)+1),dtype=np.int)   \n",
    "    for i in np.arange(len(x)+1):\n",
    "        D[i,0] = i  #initialize the first column as 0,1,2,3,4,5 etc.\n",
    "    for i in np.arange(len(y)+1):\n",
    "        D[0,i]= i   #initialize the first row as 0,1,2,3,4,5 etc.\n",
    "    for i in np.arange(1,len(x)+1): #loop through all the columns\n",
    "        for j in np.arange(1,len(y)+1):  #loop through all the rows\n",
    "            distHor = D[i,j-1] + 1\n",
    "            distVer = D[i-1,j] + 1\n",
    "            if x[i-1] == y[j-1]:\n",
    "                distDiag = D[i-1,j-1]\n",
    "            else:\n",
    "                distDiag = D[i-1,j-1]+1\n",
    "            D[i,j] = min(distHor, distVer, distDiag)\n",
    "    return D[-1,-1]\n",
    "            "
   ]
  },
  {
   "cell_type": "code",
   "execution_count": null,
   "metadata": {
    "collapsed": true
   },
   "outputs": [],
   "source": []
  }
 ],
 "metadata": {
  "kernelspec": {
   "display_name": "Python 2",
   "language": "python",
   "name": "python2"
  },
  "language_info": {
   "codemirror_mode": {
    "name": "ipython",
    "version": 2
   },
   "file_extension": ".py",
   "mimetype": "text/x-python",
   "name": "python",
   "nbconvert_exporter": "python",
   "pygments_lexer": "ipython2",
   "version": "2.7.10"
  }
 },
 "nbformat": 4,
 "nbformat_minor": 0
}
