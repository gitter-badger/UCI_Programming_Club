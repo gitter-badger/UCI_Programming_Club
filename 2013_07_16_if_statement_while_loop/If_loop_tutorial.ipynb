{
 "metadata": {
  "name": "If_loop_tutorial"
 },
 "nbformat": 3,
 "nbformat_minor": 0,
 "worksheets": [
  {
   "cells": [
    {
     "cell_type": "code",
     "collapsed": false,
     "input": "# -*- coding: utf-8 -*-\n\"\"\"\nCreated on Tue Jul 16 23:22:59 2013\n\n@author: Ionox\n\"\"\"\n\"\"\"\nIf and while\n\"\"\"\n\"\"\"\nIf and while allow you to test if conditions are true\nif they are, the  functino will run, if theya re not\nthe fucntion embedded with not run\n\"\"\"\n\"\"\"\nBefore diving into if and while it's important to understand\nBoolean logic.\nBoolean logic is basically a tool to tell if a statement is true\nor false.\nTest the following statements\n1==2\n2==2\n2>3\n3>2\n2<3\n3<2\n\"\"\"\n#Your code here\n\n\n\n\n\n\n#run it",
     "language": "python",
     "metadata": {},
     "outputs": []
    },
    {
     "cell_type": "code",
     "collapsed": false,
     "input": "\"\"\"\nBoolean logic can also be applied to strings\n== directly compares strings\nin checks if one string is in another\nTest the following statements\n\"bob\"==\"bob\"\n\"bob\"==\"not bob\"\n\"bob\" in \"not bob\"\n\"bobz\" in \"not bob\"\n\"\"\"\n#Your code here\n\n\n\n\n\n\n#run it",
     "language": "python",
     "metadata": {},
     "outputs": []
    },
    {
     "cell_type": "code",
     "collapsed": false,
     "input": "\"\"\"\nIf basically says, if the boolean statement is true\nrun everything below this if statement\nif it is false, do not run every thing tabbed below it\nTest the following\nif True:\n    print \"this was true\"\n\nif False:\n    print \"this was not\"\n    \n\"\"\"\n#Your code here\n\n\n\n\n\n\n\n# run it",
     "language": "python",
     "metadata": {},
     "outputs": []
    },
    {
     "cell_type": "code",
     "collapsed": false,
     "input": "\"\"\" \nif statements can be embedded in for statements to only\nperform operations on datapoints that meet certain parameters\nfor instance take the list:\n[1,2,3,4,5,5,6]\nif an item is list is greater than 4 multiply it by 10 and print it\nif it's less than 4 do not.\nconsider code like\nfor items in list:\n    if items>4:\n        print items*10\n\"\"\"\n#Your code here\n\n\n\n\n\n\n\n# run it",
     "language": "python",
     "metadata": {},
     "outputs": []
    },
    {
     "cell_type": "code",
     "collapsed": false,
     "input": "\"\"\"\nIt can also be used to use an index from one list to print itesm\nfrom another.\nSuppose we have two lists\n['Atrees','Btrees','ABushes','BBushes']\n[50,43,24,35]\nWe want to know the total number of tress, we don't care about bushes\ncombining a for if loop\nwe can do\ncounter=0\nfor idx in range(len(plants)):\n    if 'trees' in stuff[idx]:\n        counter=counter+counts[idx]\nprint counter\nTry it out, does it work as you expect, can you make it count\nbushes?\n\"\"\"\n#Your code here\n\n\n\n\n\n\n\n# run it",
     "language": "python",
     "metadata": {},
     "outputs": []
    },
    {
     "cell_type": "code",
     "collapsed": false,
     "input": "\"\"\"\nIf you want to test the truth of two statements, you can use\nelif which means else if. This basically says, if the first statement\nis false and I am true, run me.\nTry the following\nif True:\n    print 'this'\nelif True:\n    print 'that'\n\nif False:\n    print 'YAY'\nelif True:\n    print 'boo'\n\nif False:\n    print 'More strings'\nelif False:\n    print 'this isn't going to print enyway'\n    \nGuess which statements are going to print!\n\"\"\"\n#Your code here\n\n\n\n\n\n\n\n\n\n# run it",
     "language": "python",
     "metadata": {},
     "outputs": []
    },
    {
     "cell_type": "code",
     "collapsed": false,
     "input": "\"\"\"\nWe can also use else. Else says, if the if and elifs above me\nare all false, print me instead.\nTaking the above add on the following\nif True:\n    print 'this'\nelif True:\n    print 'that'\nelse:\n    print 'nope'\n\nif False:\n    print 'YAY'\nelif True:\n    print 'boo'\nelse:\n    print 'yep'\n    \nif False:\n    print 'More strings'\nelif False:\n    print 'this isn't going to print enyway'\nelse:\n    print 'this isn't too hard!'\n\"\"\"\n#Your code here\n\n\n\n\n\n\n\n\n\n\n\n\n\n# run it",
     "language": "python",
     "metadata": {},
     "outputs": []
    },
    {
     "cell_type": "code",
     "collapsed": false,
     "input": "\"\"\"\nWhile loops:\nA while loop basically runs until it is true\nso in the following while loop\ni=10\nwhile i>=0:\n    istr=str(i)\n    print \"t-minus \"+istr\n    i=i-1\nprint \"lift off\"\n\"\"\"\n#Your code here\n\n\n\n\n\n\n\n\n\n\n# run it",
     "language": "python",
     "metadata": {},
     "outputs": []
    },
    {
     "cell_type": "code",
     "collapsed": false,
     "input": "\"\"\"\nWhile loops can be risky, if the while loop will never end\nyou will just end up freezing your program.\ntry the following (and when it freezes jsut quit ipython)\ni=1\nwhile i>0:\n    print i\n\"\"\"\n#Your code here\n\n\n\n\n# run it",
     "language": "python",
     "metadata": {},
     "outputs": []
    },
    {
     "cell_type": "code",
     "collapsed": false,
     "input": "\"\"\"\nWhile loops are fairly inferior to for loops for a number of reasons\nbut the most common use for them is when you only need a few\nitems from a massive list\nSay you only wanted the first 50 numbers from range(63000)\nyou could do somethign like this\nmassiverange=range(63000)\nnewlist=[]\nidx=0\nwhile len(newlist)<100:\n    newlist.append(massiverange[idx])\nThis could be used to test embedded if statements etc.\nAnother use for while loops is double looping them\nbut this use is kind of beyond the scope of what I am trying to \nget across here\n\"\"\"\n#Your code here\n\n\n\n\n# run it",
     "language": "python",
     "metadata": {},
     "outputs": []
    },
    {
     "cell_type": "code",
     "collapsed": false,
     "input": "\"\"\"\nIf we want to reverse the direction of a boolean statment\nwe can use not(statement)\ntry printing not(True)\ngo back tothe top and add not around everything in the first examples\n\"\"\"\n#Your code here\n\n# run it\n\"\"\"\nThat's all for if and while\n\"\"\"",
     "language": "python",
     "metadata": {},
     "outputs": []
    }
   ],
   "metadata": {}
  }
 ]
}