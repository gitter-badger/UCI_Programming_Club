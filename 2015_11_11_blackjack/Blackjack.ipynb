{
 "cells": [
  {
   "cell_type": "markdown",
   "metadata": {},
   "source": [
    "# Blackjack\n",
    "\n",
    "First let's set up our problem.  We are trying to make a blackjack game.  To begin, let's break it down into a list of all our problems.  \n",
    "\n",
    "1. Deal\n",
    "2. Shuffle Cards\n",
    "3. Determine Value\n",
    "4. Dealer rules\n",
    "5. Betting\n"
   ]
  },
  {
   "cell_type": "code",
   "execution_count": 1,
   "metadata": {
    "collapsed": false
   },
   "outputs": [],
   "source": [
    "import random\n",
    "\n",
    "suits=['h','d','c','s'] # heart, diamond, club, spade\n",
    "specCards=['a','k','q','j','t'] #ace, king, queen, jack, ten\n",
    "deck=[]\n",
    "def createDeck():\n",
    "    for suit in suits:\n",
    "        for card in specCards:\n",
    "            deck.append(card+suit)\n",
    "            for i in range(2,10):\n",
    "                deck.append(\"%d%s\"%(i,suit))\n",
    "    return deck\n",
    "\n",
    "def countHand(hand):\n",
    "    count=0\n",
    "    aces=0\n",
    "    for card in hand:\n",
    "        cardVal=card[0]\n",
    "        if cardVal.isdigit():\n",
    "            count+=int(cardVal)\n",
    "        elif cardVal=='a':\n",
    "            aces+=1\n",
    "            count+=11\n",
    "        else:\n",
    "            count+=10\n",
    "    while count>21 and aces>0:\n",
    "        count-=10\n",
    "        aces-=1\n",
    "    return count\n",
    "\n",
    "def dealHand(fullDeck):\n",
    "    dealerDeck = []\n",
    "    playerDeck = []\n",
    "    for i in range(0,2):\n",
    "        dealerDeck.append(fullDeck.pop())\n",
    "        dealerF\n",
    "    dealerDeck.append(fullDeck.pop())\n",
    "    \n",
    "\n",
    "def playHand(fullDeck):\n",
    "    dealerHand, playerHand = dealHand(deck)\n",
    "    hitOrStand()\n",
    "    dealerPlay()\n",
    "    dealerHand = countHand(dealerHand)\n",
    "    playerHand = countHand(playerHand)\n",
    "    if playerHand > 21 or dealerHand > playHand:\n",
    "        return \"Loss\"\n",
    "    if dealerHand==playerHand:\n",
    "        return \"Push\"\n",
    "    else:\n",
    "        return \"Win\"\n",
    "\n"
   ]
  },
  {
   "cell_type": "code",
   "execution_count": 2,
   "metadata": {
    "collapsed": false
   },
   "outputs": [
    {
     "name": "stdout",
     "output_type": "stream",
     "text": [
      "(P)lay or (Q)uit?q\n"
     ]
    }
   ],
   "source": [
    "numHands=0\n",
    "while True:\n",
    "    play=raw_input(\"(P)lay or (Q)uit?\")\n",
    "    if 'p' in play.lower():\n",
    "        pass\n",
    "    elif 'q' in play.lower():\n",
    "        break\n",
    "    else:\n",
    "        print('Please enter P to play or Q to Quit')\n",
    "    numHands +=1\n",
    "    \n",
    "    deck=createDeck()\n",
    "    random.shuffle(deck)\n",
    "    playerWin = playHand()\n",
    "    print('playerWin')"
   ]
  },
  {
   "cell_type": "code",
   "execution_count": 3,
   "metadata": {
    "collapsed": false
   },
   "outputs": [
    {
     "data": {
      "text/plain": [
       "4"
      ]
     },
     "execution_count": 3,
     "metadata": {},
     "output_type": "execute_result"
    }
   ],
   "source": [
    "a=[1,2,3,4]\n",
    "a.pop()"
   ]
  },
  {
   "cell_type": "code",
   "execution_count": 4,
   "metadata": {
    "collapsed": false
   },
   "outputs": [
    {
     "name": "stdout",
     "output_type": "stream",
     "text": [
      "[1, 2, 3]\n"
     ]
    }
   ],
   "source": [
    "print(a)"
   ]
  },
  {
   "cell_type": "code",
   "execution_count": null,
   "metadata": {
    "collapsed": true
   },
   "outputs": [],
   "source": [
    "\n"
   ]
  }
 ],
 "metadata": {
  "kernelspec": {
   "display_name": "Python 2",
   "language": "python",
   "name": "python2"
  },
  "language_info": {
   "codemirror_mode": {
    "name": "ipython",
    "version": 2
   },
   "file_extension": ".py",
   "mimetype": "text/x-python",
   "name": "python",
   "nbconvert_exporter": "python",
   "pygments_lexer": "ipython2",
   "version": "2.7.10"
  }
 },
 "nbformat": 4,
 "nbformat_minor": 0
}
