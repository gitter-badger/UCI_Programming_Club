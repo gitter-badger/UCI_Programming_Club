{
 "cells": [
  {
   "cell_type": "markdown",
   "metadata": {},
   "source": [
    "# Neurobio Programming Club Week 2\n",
    "\n",
    "* Our website: [kyleellefsen.github.io/UCI_Programming_Club/](http://kyleellefsen.github.io/UCI_Programming_Club/)\n",
    "* Our codeshare: [codeshare.io/pYj0e](https://codeshare.io/pYj0e)\n",
    "\n"
   ]
  },
  {
   "cell_type": "markdown",
   "metadata": {},
   "source": [
    "# Week 1 Recap\n",
    "\n",
    "* "
   ]
  },
  {
   "cell_type": "markdown",
   "metadata": {},
   "source": [
    "# Instructions\n",
    "Get in groups of 2 or 3.  Each group must have at least:\n",
    "\n",
    "* 1 person who is familiar with the basics of python\n",
    "* 1 person who is new to python\n",
    "\n",
    "Today we will be doing a series of challenges designed to get you through the basics of programming.  Each challenge will require you to write some code to get an answer.  To figure out how to write the code you need, you can use your group members, the internet, or anything else.  You can even use other groups, but they might not appreciate that.  Because...\n",
    "\n",
    "The first two groups to solve the problem will get a prize.  A requirement for solving is that *every* group member must have coded the solution.  Everyone with a laptop must have also displayed the answer.  If you didn't bring a laptop, you'll have to have physically written out the code, exactly as it would be typed.  Obviously, people without laptops won't be able to get python to produce an answer. :( \n",
    "\n",
    "Let's begin!\n",
    "\n"
   ]
  },
  {
   "cell_type": "markdown",
   "metadata": {},
   "source": [
    "#  \n",
    "#  \n",
    "#  \n",
    "#  \n",
    "#  \n",
    "#  \n",
    "#  \n",
    "#  \n",
    "#  \n",
    "#  \n",
    "#  \n",
    "#  \n",
    "#  \n",
    "#  \n",
    "#  \n",
    "#  \n",
    "#  \n",
    "#  \n",
    "#  \n",
    "#  \n",
    "#  \n",
    "#  \n",
    "#  \n",
    "#  \n",
    "#  \n",
    "#  \n",
    "#  \n",
    "#  \n",
    "#  \n",
    "#  \n",
    "#  \n",
    "#  \n",
    "#  \n",
    "#  \n",
    "#  \n",
    "#  \n",
    "#  \n",
    "#  \n",
    "#  \n",
    "#  \n",
    "#  \n",
    "#  \n",
    "#  \n",
    "#  \n"
   ]
  },
  {
   "cell_type": "markdown",
   "metadata": {},
   "source": [
    "# Challenge 1: Hello World\n",
    "\n",
    "Launch a terminal in the Integrated Development Environment (IDE) Spyder.\n",
    "\n",
    "Print hello world"
   ]
  },
  {
   "cell_type": "markdown",
   "metadata": {},
   "source": [
    "#  \n",
    "#  \n",
    "\n",
    "![XKCD](http://imgs.xkcd.com/comics/estimating_time.png)\n",
    "\n",
    "#  \n",
    "#  \n",
    "#  \n",
    "#  "
   ]
  },
  {
   "cell_type": "markdown",
   "metadata": {},
   "source": [
    "# Challenge 2: Variables\n",
    "\n",
    "Variables are essentially pointers to information.  The information is stored in your computer's memory (RAM) as 0s and 1s.  The variable points to the location of that information.  To understand what I mean by a pointer to information, suppose I go around the room and assign everyone an integer.  When I call your name, give me the integer you were assigned.  \n",
    "\n",
    "Now, when I want to retreive an integer, all I have to do is call your name.  If I want to add two integers together, I can get the integers from two people and add them.  In this way, I can manipulate numbers without actually knowing their values.  This is the power of algebra, and it's also the power of programming.  \n",
    "\n",
    "The challenge is: assign the first 5 even numbers (excluding 0) to 5 variables.  Add them up.  Print the result."
   ]
  },
  {
   "cell_type": "markdown",
   "metadata": {},
   "source": [
    "\n",
    "#  \n",
    "#  \n",
    "\n",
    "![XKCD](http://imgs.xkcd.com/comics/insanity.png)\n",
    "\n",
    "#  \n",
    "#  \n",
    "#  \n",
    "#  "
   ]
  },
  {
   "cell_type": "markdown",
   "metadata": {},
   "source": [
    "# Challenge 3: Fundamental Data Types\n",
    "\n",
    "There are many different data types in python, but there are a few fundamental data types.  The most important are \n",
    "* integers:     4, 6, -9, 1000\n",
    "* floating point numbers:   3.1415, .009, 6.0\n",
    "* boolean values:    True, False\n",
    "* strings:  'Hello World!',  'Programming Club',  \"You will be deleted!\"\n",
    "\n",
    "You can perform operations on these data types.  \n",
    "\n",
    "## Operations on ints and floats\n",
    "\n",
    "| Symbol | Task Performed |\n",
    "|----|---|\n",
    "| +  | Addition |\n",
    "| -  | Subtraction |\n",
    "| /  | division |\n",
    "| %  | mod |\n",
    "| *  | multiplication |\n",
    "| //  | floor division |\n",
    "| **  | to the power of |\n",
    "\n",
    "## Relational operators \n",
    "\n",
    "| Symbol | Task Performed |\n",
    "|----|---|\n",
    "| == | True, if it is equal |\n",
    "| !=  | True, if not equal to |\n",
    "| < | less than |\n",
    "| > | greater than |\n",
    "| <=  | less than or equal to |\n",
    "| >=  | greater than or equal to |\n",
    "\n",
    "The challenge has two parts:\n",
    "\n",
    "1. Use python as a calculator to figure out how many grams of KCl you need to put into 70 mL to make a 55.4 mM solution.  Assign variables to all the numbers which go into the problem, and perform the necessary operations on the variables.  \n",
    "\n",
    "2. If that number is less than or equal to .8 grams, print \"Hurray, we have enough KCl\".  If it weights more than that, print \"We need to buy more KCl!\".  \n"
   ]
  },
  {
   "cell_type": "markdown",
   "metadata": {},
   "source": [
    "\n",
    "\n",
    "\n",
    "#  \n",
    "#  \n",
    "\n",
    "![XKCD](http://imgs.xkcd.com/comics/conditionals.png)\n",
    "\n",
    "#  \n",
    "#  \n",
    "#  \n",
    "#  "
   ]
  },
  {
   "cell_type": "markdown",
   "metadata": {},
   "source": [
    "# Challenge 5: Data Types - Strings\n",
    "Using an ASCII table, decode this sequence.  This doesn't involve writing code, just finding the answer. \n",
    "* 72\n",
    "* 101\n",
    "* 108\n",
    "* 108\n",
    "* 111\n",
    "* 32\n",
    "* 85\n",
    "* 67\n",
    "* 73\n",
    "* 33\n",
    "\n",
    "Here is an ASCII table for you.\n",
    "\n",
    "\n",
    "![ASCII table](ASCII_table.gif)\n",
    "\n"
   ]
  },
  {
   "cell_type": "markdown",
   "metadata": {},
   "source": [
    "#  \n",
    "#  \n",
    "\n",
    "![XKCD](http://imgs.xkcd.com/comics/universal_install_script.png)\n",
    "\n",
    "#  \n",
    "#  \n",
    "#  \n",
    "#  "
   ]
  },
  {
   "cell_type": "markdown",
   "metadata": {},
   "source": [
    "# Challenge 6: Data Types - Compound Data Types\n",
    "\n",
    "A compound data type is a type which acts as a container for other objects in python.  The main compound data types are:\n",
    "\n",
    "* Lists\n",
    "* Tuples\n",
    "* Dictionaries\n",
    "\n",
    "The important difference between these data types is how you get at the data inside of them.  Suppose we have 4 integers in a list.  \n",
    "\n"
   ]
  },
  {
   "cell_type": "code",
   "execution_count": 31,
   "metadata": {
    "collapsed": true
   },
   "outputs": [],
   "source": [
    "a = [4, 9, 16, 25]"
   ]
  },
  {
   "cell_type": "markdown",
   "metadata": {},
   "source": [
    "How can we access the first element?  Each element has an index.  The first element has an index of zero.  The second element has an index of one.  We can access the 3rd element this way: "
   ]
  },
  {
   "cell_type": "code",
   "execution_count": 35,
   "metadata": {
    "collapsed": false
   },
   "outputs": [
    {
     "name": "stdout",
     "output_type": "stream",
     "text": [
      "The third element is 16!\n"
     ]
    }
   ],
   "source": [
    "third_element = a[2]  # remember, python indexing begins at zero. \n",
    "print(\"The third element is {}!\".format(third_element))"
   ]
  },
  {
   "cell_type": "markdown",
   "metadata": {},
   "source": [
    "\n",
    "\n",
    "The challenge: Make a list of strings, where each string is the name of one of your nuclear family members.  Then, using list indexing, make a new list by selecting every other family member's name.  "
   ]
  },
  {
   "cell_type": "markdown",
   "metadata": {},
   "source": [
    "#  \n",
    "#  \n",
    "\n",
    "![XKCD](http://imgs.xkcd.com/comics/twitter_bot.png )\n",
    "\n",
    "#  \n",
    "#  \n",
    "#  \n",
    "#  "
   ]
  },
  {
   "cell_type": "markdown",
   "metadata": {},
   "source": [
    "# Challenge 7: Importing data into python\n",
    "\n",
    "Files can be loaded into memory and manipulated by python.  Those files can be from your hard drive, from your lab's server, of from the internet.  How do you import a file?  Google it, the answer will be on stack overflow. "
   ]
  },
  {
   "cell_type": "code",
   "execution_count": 19,
   "metadata": {
    "collapsed": false
   },
   "outputs": [
    {
     "name": "stdout",
     "output_type": "stream",
     "text": [
      "The Raven\n",
      "BY EDGAR ALLAN POE\n",
      "\n",
      "Once upon a midnight dreary, while I pondered, weak and weary,\n",
      "Over many a quaint and curious volume of forgotten lore—\n",
      "    While I nodded, nearly napping, suddenly there came a tapping,\n",
      "As of some one gently rapping, rapping at my chamber door.\n",
      "“’Tis some visitor,” I muttered, “tapping at my chamber door—\n",
      "            Only this and nothing more.”\n",
      "\n",
      "    Ah, distinctly I remember it was in the bleak December;\n",
      "And each separate dying ember wrought its ghost upon the floor.\n",
      "    Eagerly I wished the morrow;—vainly I had sought to borrow\n",
      "    From my books surcease of sorrow—sorrow for the lost Lenore—\n",
      "For the rare and radiant maiden whom the angels name Lenore—\n",
      "            Nameless here for evermore.\n",
      "\n",
      "    And the silken, sad, uncertain rustling of each purple curtain\n",
      "Thrilled me—filled me with fantastic terrors never felt before;\n",
      "    So that now, to still the beating of my heart, I stood repeating\n",
      "    “’Tis some visitor entreating entrance at my chamber door—\n",
      "Some late visiter entreating entrance at my chamber door;—\n",
      "            This it is and nothing more.”\n",
      "\n",
      "    Presently my soul grew stronger; hesitating then no longer,\n",
      "“Sir,” said I, “or Madam, truly your forgiveness I implore;\n",
      "    But the fact is I was napping, and so gently you came rapping,\n",
      "    And so faintly you came tapping, tapping at my chamber door,\n",
      "That I scarce was sure I heard you”—here I opened wide the door;—\n",
      "            Darkness there and nothing more.\n",
      "\n",
      "    Deep into that darkness peering, long I stood there wondering, fearing,\n",
      "Doubting, dreaming dreams no mortal ever dared to dream before;\n",
      "    But the silence was unbroken, and the stillness gave no token,\n",
      "    And the only word there spoken was the whispered word, “Lenore?”\n",
      "This I whispered, and an echo murmured back the word, “Lenore!”—\n",
      "            Merely this and nothing more.\n",
      "\n",
      "    Back into the chamber turning, all my soul within me burning,\n",
      "Soon again I heard a tapping somewhat louder than before.\n",
      "    “Surely,” said I, “surely that is something at my window lattice;\n",
      "      Let me see, then, what thereat is, and this mystery explore—\n",
      "Let my heart be still a moment and this mystery explore;—\n",
      "            ’Tis the wind and nothing more!”\n",
      "\n",
      "    Open here I flung the shutter, when, with many a flirt and flutter,\n",
      "In there stepped a stately Raven of the saintly days of yore;\n",
      "    Not the least obeisance made he; not a minute stopped or stayed he;\n",
      "    But, with mien of lord or lady, perched above my chamber door—\n",
      "Perched upon a bust of Pallas just above my chamber door—\n",
      "            Perched, and sat, and nothing more.\n",
      "\n",
      "Then this ebony bird beguiling my sad fancy into smiling,\n",
      "By the grave and stern decorum of the countenance it wore,\n",
      "“Though thy crest be shorn and shaven, thou,” I said, “art sure no craven,\n",
      "Ghastly grim and ancient Raven wandering from the Nightly shore—\n",
      "Tell me what thy lordly name is on the Night’s Plutonian shore!”\n",
      "            Quoth the Raven “Nevermore.”\n",
      "\n",
      "    Much I marvelled this ungainly fowl to hear discourse so plainly,\n",
      "Though its answer little meaning—little relevancy bore;\n",
      "    For we cannot help agreeing that no living human being\n",
      "    Ever yet was blessed with seeing bird above his chamber door—\n",
      "Bird or beast upon the sculptured bust above his chamber door,\n",
      "            With such name as “Nevermore.”\n",
      "\n",
      "    But the Raven, sitting lonely on the placid bust, spoke only\n",
      "That one word, as if his soul in that one word he did outpour.\n",
      "    Nothing farther then he uttered—not a feather then he fluttered—\n",
      "    Till I scarcely more than muttered “Other friends have flown before—\n",
      "On the morrow he will leave me, as my Hopes have flown before.”\n",
      "            Then the bird said “Nevermore.”\n",
      "\n",
      "    Startled at the stillness broken by reply so aptly spoken,\n",
      "“Doubtless,” said I, “what it utters is its only stock and store\n",
      "    Caught from some unhappy master whom unmerciful Disaster\n",
      "    Followed fast and followed faster till his songs one burden bore—\n",
      "Till the dirges of his Hope that melancholy burden bore\n",
      "            Of ‘Never—nevermore’.”\n",
      "\n",
      "    But the Raven still beguiling all my fancy into smiling,\n",
      "Straight I wheeled a cushioned seat in front of bird, and bust and door;\n",
      "    Then, upon the velvet sinking, I betook myself to linking\n",
      "    Fancy unto fancy, thinking what this ominous bird of yore—\n",
      "What this grim, ungainly, ghastly, gaunt, and ominous bird of yore\n",
      "            Meant in croaking “Nevermore.”\n",
      "\n",
      "    This I sat engaged in guessing, but no syllable expressing\n",
      "To the fowl whose fiery eyes now burned into my bosom’s core;\n",
      "    This and more I sat divining, with my head at ease reclining\n",
      "    On the cushion’s velvet lining that the lamp-light gloated o’er,\n",
      "But whose velvet-violet lining with the lamp-light gloating o’er,\n",
      "            She shall press, ah, nevermore!\n",
      "\n",
      "    Then, methought, the air grew denser, perfumed from an unseen censer\n",
      "Swung by Seraphim whose foot-falls tinkled on the tufted floor.\n",
      "    “Wretch,” I cried, “thy God hath lent thee—by these angels he hath sent thee\n",
      "    Respite—respite and nepenthe from thy memories of Lenore;\n",
      "Quaff, oh quaff this kind nepenthe and forget this lost Lenore!”\n",
      "            Quoth the Raven “Nevermore.”\n",
      "\n",
      "    “Prophet!” said I, “thing of evil!—prophet still, if bird or devil!—\n",
      "Whether Tempter sent, or whether tempest tossed thee here ashore,\n",
      "    Desolate yet all undaunted, on this desert land enchanted—\n",
      "    On this home by Horror haunted—tell me truly, I implore—\n",
      "Is there—is there balm in Gilead?—tell me—tell me, I implore!”\n",
      "            Quoth the Raven “Nevermore.”\n",
      "\n",
      "    “Prophet!” said I, “thing of evil!—prophet still, if bird or devil!\n",
      "By that Heaven that bends above us—by that God we both adore—\n",
      "    Tell this soul with sorrow laden if, within the distant Aidenn,\n",
      "    It shall clasp a sainted maiden whom the angels name Lenore—\n",
      "Clasp a rare and radiant maiden whom the angels name Lenore.”\n",
      "            Quoth the Raven “Nevermore.”\n",
      "\n",
      "    “Be that word our sign of parting, bird or fiend!” I shrieked, upstarting—\n",
      "“Get thee back into the tempest and the Night’s Plutonian shore!\n",
      "    Leave no black plume as a token of that lie thy soul hath spoken!\n",
      "    Leave my loneliness unbroken!—quit the bust above my door!\n",
      "Take thy beak from out my heart, and take thy form from off my door!”\n",
      "            Quoth the Raven “Nevermore.”\n",
      "\n",
      "    And the Raven, never flitting, still is sitting, still is sitting\n",
      "On the pallid bust of Pallas just above my chamber door;\n",
      "    And his eyes have all the seeming of a demon’s that is dreaming,\n",
      "    And the lamp-light o’er him streaming throws his shadow on the floor;\n",
      "And my soul from out that shadow that lies floating on the floor\n",
      "            Shall be lifted—nevermore!\n",
      "\n"
     ]
    }
   ],
   "source": [
    "import urllib2  # the library that handles the url stuff\n",
    "raven_url = 'https://raw.githubusercontent.com/kyleellefsen/UCI_Programming_Club/gh-pages/2014_10_27_Input_Output/TheRaven.txt'\n",
    "data = urllib2.urlopen(raven_url).read() # it's a file-like object and works just like a file\n",
    "print(data)"
   ]
  },
  {
   "cell_type": "markdown",
   "metadata": {},
   "source": [
    "The challenge: make a list containing two strings.  Set the first string equal to 'Neurobio Programming Club '.  Set the second string equal to the 19th line of The Raven (note: python list indexing begins with zero).  Combine all the strings in the list and print the result."
   ]
  },
  {
   "cell_type": "markdown",
   "metadata": {},
   "source": [
    "#  \n",
    "#  \n",
    "#  \n",
    "#  \n",
    "#  \n",
    "![XKCD](http://imgs.xkcd.com/comics/the_raven.jpg)\n",
    "#  \n",
    "#   \n",
    "#  \n",
    "#  "
   ]
  }
 ],
 "metadata": {
  "kernelspec": {
   "display_name": "Python 2",
   "language": "python",
   "name": "python2"
  },
  "language_info": {
   "codemirror_mode": {
    "name": "ipython",
    "version": 2
   },
   "file_extension": ".py",
   "mimetype": "text/x-python",
   "name": "python",
   "nbconvert_exporter": "python",
   "pygments_lexer": "ipython2",
   "version": "2.7.11"
  }
 },
 "nbformat": 4,
 "nbformat_minor": 0
}
