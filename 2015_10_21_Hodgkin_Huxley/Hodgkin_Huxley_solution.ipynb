{
 "cells": [
  {
   "cell_type": "code",
   "execution_count": 17,
   "metadata": {
    "collapsed": false
   },
   "outputs": [
    {
     "data": {
      "text/plain": [
       "0.273867"
      ]
     },
     "execution_count": 17,
     "metadata": {},
     "output_type": "execute_result"
    }
   ],
   "source": [
    "\n",
    "g_L=.003 #mS/mm^2\n",
    "g_K=.36  #mS/mm^2\n",
    "g_Na=1.2 #mS/mm^2\n",
    "E_L=-54.387  #mV\n",
    "E_K=-77 #mV\n",
    "E_Na=50 #mV\n",
    "\n",
    "getCurrent(-50,.1,.2,.3)"
   ]
  },
  {
   "cell_type": "markdown",
   "metadata": {
    "slideshow": {
     "slide_type": "-"
    }
   },
   "source": [
    "## Step 1\n",
    "\n",
    "Write a function for total current equation\n",
    "$$I=g_L(V-E_L)+g_K n^4(V-E_K) + g_{Na} m^3h(V-E_{Na})   $$\n"
   ]
  },
  {
   "cell_type": "code",
   "execution_count": 18,
   "metadata": {
    "collapsed": false
   },
   "outputs": [],
   "source": [
    "import numpy as np\n",
    "import matplotlib.pyplot as plt\n",
    "from __future__ import division\n",
    "%matplotlib inline\n",
    "\n",
    "g_L=.003 #mS/mm^2\n",
    "g_K=.36  #mS/mm^2\n",
    "g_Na=1.2 #mS/mm^2\n",
    "E_L=-54.387  #mV\n",
    "E_K=-77 #mV\n",
    "E_Na=50 #mV\n",
    "def getCurrent(V, n, m, h):\n",
    "    I=  g_L*(V-E_L)  +  g_K*(n**4)*(V-E_K)   +   g_Na*(m**3)*h*(V-E_Na)\n",
    "    return -I"
   ]
  },
  {
   "cell_type": "code",
   "execution_count": 19,
   "metadata": {
    "collapsed": false
   },
   "outputs": [
    {
     "data": {
      "text/plain": [
       "1096.6331584284585"
      ]
     },
     "execution_count": 19,
     "metadata": {},
     "output_type": "execute_result"
    }
   ],
   "source": [
    "import numpy as np\n",
    "e=np.exp\n",
    "e(7)"
   ]
  },
  {
   "cell_type": "markdown",
   "metadata": {
    "slideshow": {
     "slide_type": "-"
    }
   },
   "source": [
    "## Step 2\n",
    "Write functions for all the $\\alpha(V)$ and $\\beta(V)$ equations.  \n",
    "\n",
    "\n",
    "\n",
    "$$ \\alpha_n(V) = \\dfrac{.01(V+55)}{1-e^{-.1(V+55)}} $$\n",
    "\n",
    "$$ \\beta_n(V) = 0.125e^{-0.0125(V+65)} $$\n",
    "\n",
    "$$ \\alpha_m(V) = \\dfrac{.1(V+40)}{1-e^{-.1(V+40)}} $$\n",
    "\n",
    "$$ \\beta_m(V) = 4e^{-0.0556(V+65)} $$\n",
    "\n",
    "$$ \\alpha_h(V) = .07e^{-0.05(V+65)}  $$\n",
    "\n",
    "$$ \\beta_h(V) = \\dfrac{1}{1+e^{-.1(V+35)}} $$\n",
    "\n"
   ]
  },
  {
   "cell_type": "code",
   "execution_count": 20,
   "metadata": {
    "collapsed": false
   },
   "outputs": [
    {
     "data": {
      "text/plain": [
       "(0.272356372458463,\n",
       " 0.080706065803486507,\n",
       " 1.5819767068693265,\n",
       " 0.5713772303381649,\n",
       " 0.012164176041531161,\n",
       " 0.62245933120185459)"
      ]
     },
     "execution_count": 20,
     "metadata": {},
     "output_type": "execute_result"
    }
   ],
   "source": [
    "def alpha_n(V):\n",
    "    return (.01*(V+55))/(1-np.exp(-.1*(V+55))) #from Dayan & Abbott\n",
    "def beta_n(V):\n",
    "    return 0.125*np.exp(-0.0125*(V+65)) #from Dayan & Abbott\n",
    "def alpha_m(V):\n",
    "    return (.1*(V+40))/(1-np.exp(-.1*(V+40))) #from Dayan & Abbott\n",
    "def beta_m(V): \n",
    "    return 4*np.exp(-.0556*(V+65)) #from Dayan & Abbott\n",
    "def alpha_h(V):\n",
    "    return .07*np.exp(-.05*(V+65)) #from Dayan & Abbott\n",
    "def beta_h(V):\n",
    "    return 1./(1.+np.exp(-.1*(V+35))) #from Dayan & Abbott\n",
    "alpha_n(-30), beta_n(-30), alpha_m(-30), beta_m(-30), alpha_h(-30), beta_h(-30)"
   ]
  },
  {
   "cell_type": "markdown",
   "metadata": {
    "slideshow": {
     "slide_type": "-"
    }
   },
   "source": [
    "## Step 3\n",
    "\n",
    "Write a function for the rate of change of the state of each subunit.  This function should take as inputs 1) the type of subunit, 2) the voltage, and 3) the current state.  It should output the rate the subunit is changing.  It should also call the functions written in step 2.\n",
    "\n",
    "$$ \\dfrac{dx}{dt} = \\alpha_x(V)(1-x) - \\beta_x(V)x $$"
   ]
  },
  {
   "cell_type": "code",
   "execution_count": 21,
   "metadata": {
    "collapsed": false
   },
   "outputs": [],
   "source": [
    "def getSubunitChangeRate(subunit_type,V,currState):\n",
    "    if subunit_type=='n':\n",
    "        alpha=alpha_n(V)\n",
    "        beta=beta_n(V)\n",
    "    elif subunit_type=='m':\n",
    "        alpha=alpha_m(V)\n",
    "        beta=beta_m(V)\n",
    "    elif subunit_type=='h':\n",
    "        alpha=alpha_h(V)\n",
    "        beta=beta_h(V)\n",
    "    return alpha*(1-currState)-beta*currState"
   ]
  },
  {
   "cell_type": "markdown",
   "metadata": {},
   "source": [
    "## Step 4\n",
    "\n",
    "Write a function that will get the voltage at the next step given the current voltage\n",
    "\n",
    "$$C \\dfrac{dV}{dt}=I$$\n",
    "\n",
    "$$ dV=\\dfrac{I*dt}{C}$$\n",
    "\n",
    "set $C=.01$ nF/cm<sup>2</sup>"
   ]
  },
  {
   "cell_type": "code",
   "execution_count": 22,
   "metadata": {
    "collapsed": true
   },
   "outputs": [],
   "source": [
    "def updateVoltage(V_old,n,m,h,dt,external_current=0):\n",
    "    C= .01 #nF/cm^2\n",
    "    # for each subunit type, update the probability that subunit is in its 'open' conformation\n",
    "    n=n+dt*getSubunitChangeRate('n',V_old,n)\n",
    "    m=m+dt*getSubunitChangeRate('m',V_old,m)\n",
    "    h=h+dt*getSubunitChangeRate('h',V_old,h)\n",
    "    I=getCurrent(V_old,n,m,h)+external_current\n",
    "    V_new=V_old+dt*(I/C)\n",
    "    return V_new, n, m, h\n",
    "    "
   ]
  },
  {
   "cell_type": "code",
   "execution_count": null,
   "metadata": {
    "collapsed": true
   },
   "outputs": [],
   "source": [
    "updateVoltage(v_old=1,n=2,m=3)"
   ]
  },
  {
   "cell_type": "markdown",
   "metadata": {},
   "source": [
    "## Step 5\n",
    "Plot an action potential"
   ]
  },
  {
   "cell_type": "markdown",
   "metadata": {},
   "source": [
    "\n",
    "\n",
    "\n",
    "\n",
    "\n",
    "\n"
   ]
  },
  {
   "cell_type": "markdown",
   "metadata": {},
   "source": [
    "# Kyle's solutions\n",
    "## Step 1"
   ]
  },
  {
   "cell_type": "markdown",
   "metadata": {},
   "source": [
    "## Step 2"
   ]
  },
  {
   "cell_type": "markdown",
   "metadata": {},
   "source": [
    "## Step 3"
   ]
  },
  {
   "cell_type": "markdown",
   "metadata": {},
   "source": [
    "## Step 4"
   ]
  },
  {
   "cell_type": "markdown",
   "metadata": {},
   "source": [
    "## Step 5"
   ]
  },
  {
   "cell_type": "code",
   "execution_count": 35,
   "metadata": {
    "collapsed": false
   },
   "outputs": [],
   "source": [
    "dt=.025\n",
    "simTime=100\n",
    "t=np.arange(0,simTime,dt)\n",
    "V=np.zeros(len(t))\n",
    "n=np.zeros(len(t))\n",
    "m=np.zeros(len(t))\n",
    "h=np.zeros(len(t))\n",
    "external_current=np.zeros(len(t))\n",
    "V[0]=-65\n",
    "n[0]=0#alpha_n(V[0])/(alpha_n(V[0])+beta_n(V[0])) #this is the value at this voltage at t=infinity\n",
    "m[0]=0#alpha_m(V[0])/(alpha_m(V[0])+beta_m(V[0])) #this is the value at this voltage at t=infinity\n",
    "h[0]=0#alpha_h(V[0])/(alpha_h(V[0])+beta_h(V[0])) #this is the value at this voltage at t=infinity\n",
    "\n",
    "#external_current[(t>5)*(t<6)]=.2\n",
    "#external_current[(t>30)*(t<31)]=.2\n",
    "#external_current[(t>50)*(t<80)]=.2\n",
    "\n",
    "for i in range(1,len(V)):\n",
    "    V[i],n[i],m[i],h[i]=updateVoltage(V[i-1],n[i-1],m[i-1],h[i-1],dt,external_current[i-1])"
   ]
  },
  {
   "cell_type": "code",
   "execution_count": 40,
   "metadata": {
    "collapsed": false
   },
   "outputs": [
    {
     "name": "stdout",
     "output_type": "stream",
     "text": [
      "[ 0.  7.  0. ...,  0.  0.  0.]\n"
     ]
    }
   ],
   "source": [
    "V=np.zeros(len(t))\n",
    "V[1]=7\n",
    "print(V)"
   ]
  },
  {
   "cell_type": "code",
   "execution_count": 36,
   "metadata": {
    "collapsed": false
   },
   "outputs": [
    {
     "data": {
      "text/plain": [
       "<matplotlib.legend.Legend at 0x1081e65d0>"
      ]
     },
     "execution_count": 36,
     "metadata": {},
     "output_type": "execute_result"
    },
    {
     "data": {
      "image/png": "[encoded data removed]",
      "text/plain": [
       "<matplotlib.figure.Figure at 0x106d11ad0>"
      ]
     },
     "metadata": {},
     "output_type": "display_data"
    },
    {
     "data": {
      "image/png": "[encoded data removed]",
      "text/plain": [
       "<matplotlib.figure.Figure at 0x1080c5850>"
      ]
     },
     "metadata": {},
     "output_type": "display_data"
    },
    {
     "data": {
      "image/png": "[encoded data removed]",
      "text/plain": [
       "<matplotlib.figure.Figure at 0x1080f46d0>"
      ]
     },
     "metadata": {},
     "output_type": "display_data"
    }
   ],
   "source": [
    "plt.plot(t,V)\n",
    "t_current=t[external_current>0]\n",
    "plt.plot(t_current,-90*np.ones(len(t_current)),linestyle='None',marker='.')\n",
    "plt.axis([0,np.max(t),-100,100])\n",
    "plt.legend(['Voltage','Injected current'])\n",
    "plt.figure()\n",
    "plt.plot(t,n)\n",
    "plt.plot(t,m)\n",
    "plt.plot(t,h)\n",
    "plt.legend(['n','m','h'])\n",
    "plt.figure()\n",
    "plt.plot(t,g_K*(n**4)*(V-E_K) )\n",
    "plt.plot(t,g_Na*(m**3)*h*(V-E_Na))\n",
    "plt.legend(['K current','Na current'])"
   ]
  },
  {
   "cell_type": "code",
   "execution_count": 37,
   "metadata": {
    "collapsed": false
   },
   "outputs": [
    {
     "data": {
      "text/plain": [
       "4000"
      ]
     },
     "execution_count": 37,
     "metadata": {},
     "output_type": "execute_result"
    }
   ],
   "source": [
    "len(t)"
   ]
  },
  {
   "cell_type": "code",
   "execution_count": null,
   "metadata": {
    "collapsed": true
   },
   "outputs": [],
   "source": []
  }
 ],
 "metadata": {
  "kernelspec": {
   "display_name": "Python 2",
   "language": "python",
   "name": "python2"
  },
  "language_info": {
   "codemirror_mode": {
    "name": "ipython",
    "version": 2
   },
   "file_extension": ".py",
   "mimetype": "text/x-python",
   "name": "python",
   "nbconvert_exporter": "python",
   "pygments_lexer": "ipython2",
   "version": "2.7.10"
  }
 },
 "nbformat": 4,
 "nbformat_minor": 0
}
