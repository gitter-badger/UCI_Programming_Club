{
 "cells": [
  {
   "cell_type": "markdown",
   "metadata": {
    "collapsed": false
   },
   "source": [
    "# Tutorial:\n",
    "This will guide you through the basic commans of python including variable types and how to call and manipulate them\n",
    "At the end it will discuss modules and errors.\n",
    "    \n",
    "Throughout this tutorial, results should print to the console if you get a red result, that means you messed up somewhere. Reread the directions for that section and tweak your code. If you keep getting an error call me over!\n",
    "While you could jsut copy paste a lot of this, you will learn more by typing it out and calling the varialbes your own names (and even calling your own values)."
   ]
  },
  {
   "cell_type": "markdown",
   "metadata": {
    "collapsed": false
   },
   "source": [
    "# Variables\n",
    "\n",
    "Variables are essentially containers you can store information in. These containers can be used like the information in them. For instance: A=1 can be used anywhere 1 could be used. Below declare A as two, on the next line print it. To print, type:"
   ]
  },
  {
   "cell_type": "code",
   "execution_count": null,
   "metadata": {
    "collapsed": false
   },
   "outputs": [],
   "source": [
    "print(A)"
   ]
  },
  {
   "cell_type": "markdown",
   "metadata": {},
   "source": [
    "Then hit Cell->Run. Or hit shift+Enter to run this cell.\n",
    "\n",
    "Insert your code below here and run it."
   ]
  },
  {
   "cell_type": "code",
   "execution_count": null,
   "metadata": {
    "collapsed": true
   },
   "outputs": [],
   "source": []
  },
  {
   "cell_type": "markdown",
   "metadata": {
    "collapsed": false
   },
   "source": [
    "The variable 'A' above is declared as a int. This means operations on A will\n",
    "return integars. (whole numbers). Below, declare a varialbe B as \n",
    "A/10 On the line below it, print B, you should get 0. (If you don't\n",
    "don't worry that just means you have a quirk in how you ran it, it \n",
    "shouldn't effect anything moving forward)."
   ]
  },
  {
   "cell_type": "code",
   "execution_count": null,
   "metadata": {
    "collapsed": true
   },
   "outputs": [],
   "source": []
  },
  {
   "cell_type": "markdown",
   "metadata": {
    "collapsed": false
   },
   "source": [
    "To fix this type "
   ]
  },
  {
   "cell_type": "code",
   "execution_count": null,
   "metadata": {
    "collapsed": true
   },
   "outputs": [],
   "source": [
    "from __future__ import division"
   ]
  },
  {
   "cell_type": "markdown",
   "metadata": {},
   "source": [
    "and run it. After running this cell, try running the above block again. It should produce the correct answer. We've now set up the environment so it can return ints or floats. For most uses in python, python will guess your data\n",
    "type for you, so you shouldn't need to worry about it too much.\n",
    "\n",
    "In python the basic math terms are + - / * and \\*\\* (for exponential)\n",
    "Below print A+A\n",
    "print A-A\n",
    "print A/A\n",
    "print A*A\n",
    "print A**34\n",
    "\"\"\"\n",
    "#Your code below here\n",
    "\n",
    "\n",
    "\n",
    "\n",
    "## Run it now\n"
   ]
  },
  {
   "cell_type": "code",
   "execution_count": 5,
   "metadata": {
    "collapsed": false
   },
   "outputs": [
    {
     "data": {
      "text/plain": [
       "'\\nInts and floats are not the only variable types, Another common type\\nis strings. Strings are lists of letters. They can be be as short as\\none letter or as long as the entire corpus of all human literature.\\nTo declare a string just type Variable=\\'string of my choice\\'\\nAlternatively Variable=\"string of my choice\"\\nBelow, declare the string C as \"Declaring a variable can be easy\"\\nbelow that:\\nprint C\\n'"
      ]
     },
     "execution_count": 5,
     "metadata": {},
     "output_type": "execute_result"
    }
   ],
   "source": [
    "\"\"\"\n",
    "Ints and floats are not the only variable types, Another common type\n",
    "is strings. Strings are lists of letters. They can be be as short as\n",
    "one letter or as long as the entire corpus of all human literature.\n",
    "To declare a string just type Variable='string of my choice'\n",
    "Alternatively Variable=\"string of my choice\"\n",
    "Below, declare the string C as \"Declaring a variable can be easy\"\n",
    "below that:\n",
    "print C\n",
    "\"\"\"\n",
    "#Your code below here\n",
    "\n",
    "\n",
    "## Run it now"
   ]
  },
  {
   "cell_type": "code",
   "execution_count": 6,
   "metadata": {
    "collapsed": false
   },
   "outputs": [
    {
     "data": {
      "text/plain": [
       "' Strings have one big hangup you might run into when coding.\\ncertain characters \\\\x for instance, have a specific meanign to the \\ncomputer because of this, it will eat/misread these characters, \\nbelow declare BadVar as \"this \\\\x will cause an error\"\\nprint BadVar, you should get a red error'"
      ]
     },
     "execution_count": 6,
     "metadata": {},
     "output_type": "execute_result"
    }
   ],
   "source": [
    "r\"\"\" Strings have one big hangup you might run into when coding.\n",
    "certain characters \\x for instance, have a specific meanign to the \n",
    "computer because of this, it will eat/misread these characters, \n",
    "below declare BadVar as \"this \\x will cause an error\"\n",
    "print BadVar, you should get a red error\"\"\"\n",
    "#Your code below here\n",
    "\n",
    "\n",
    "## Run it now"
   ]
  },
  {
   "cell_type": "code",
   "execution_count": 7,
   "metadata": {
    "collapsed": false
   },
   "outputs": [
    {
     "data": {
      "text/plain": [
       "' More on strings!\\nStrings have some special options associated with them,\\nto access these take the variable you have written a string into\\nand type . after it. (Do this in your console the area with three >>>)\\n You will see a  number of options, most of these are not extremely\\n useful to you right now. but to show how they work let\\'s \\n use the \\'split\\'. Set SplitVar= \"Let\\'s break this into indivdual strings\"\\n Next type K=SplitVar.split(\" \") What this does is break SplitVar into individual\\n words (as you are splitting it around spaces). print K below that.\\n'"
      ]
     },
     "execution_count": 7,
     "metadata": {},
     "output_type": "execute_result"
    }
   ],
   "source": [
    "r\"\"\" Fixing this is easy. Go back up to the cell above (where you declared \n",
    "BadVar)\n",
    "and put an r before the \"\" so it should now read BadVar=r\"this \\x will cause an error\"\n",
    "Run it again.\n",
    "You will notice it now prints (mostly) fine. \n",
    "(python does not care about 2 \\ or 1)\n",
    "what you are doing is telling python to read your line literally\n",
    "and not translate anything into computer meanings.\n",
    "It is a good habit to put r in everywhere you call a string.\"\"\"\n",
    "\"\"\" More on strings!\n",
    "Strings have some special options associated with them,\n",
    "to access these take the variable you have written a string into\n",
    "and type . after it. (Do this in your console the area with three >>>)\n",
    " You will see a  number of options, most of these are not extremely\n",
    " useful to you right now. but to show how they work let's \n",
    " use the 'split'. Set SplitVar= \"Let's break this into indivdual strings\"\n",
    " Next type K=SplitVar.split(\" \") What this does is break SplitVar into individual\n",
    " words (as you are splitting it around spaces). print K below that.\n",
    "\"\"\"\n",
    "#Your code below here\n",
    "\n",
    "\n",
    "\n",
    "## Run it now"
   ]
  },
  {
   "cell_type": "code",
   "execution_count": 8,
   "metadata": {
    "collapsed": false
   },
   "outputs": [
    {
     "data": {
      "text/plain": [
       "\" Lists!\\nLists are a slightly confusing concept. In essence they are a variable\\nthat contains multiple things that could each be their own variable.\\nTo declare lists you put [] around things you want in a list, seperate\\nitems with commas\\nTo test this:\\n    Below make a string Var1 as [1,2,3,4]\\n    Set Var2 as ['lists','can','be','words']\\n    Set Var3 as ['lists',2,'can',345,'have']\\nbelow that \\nprint Var1\\nprint Var2\\nprint Var3\\n\""
      ]
     },
     "execution_count": 8,
     "metadata": {},
     "output_type": "execute_result"
    }
   ],
   "source": [
    "\"\"\" Lists!\n",
    "Lists are a slightly confusing concept. In essence they are a variable\n",
    "that contains multiple things that could each be their own variable.\n",
    "To declare lists you put [] around things you want in a list, seperate\n",
    "items with commas\n",
    "To test this:\n",
    "    Below make a string Var1 as [1,2,3,4]\n",
    "    Set Var2 as ['lists','can','be','words']\n",
    "    Set Var3 as ['lists',2,'can',345,'have']\n",
    "below that \n",
    "print Var1\n",
    "print Var2\n",
    "print Var3\n",
    "\"\"\"\n",
    "#Your code below here\n",
    "\n",
    "\n",
    "\n",
    "\n",
    "\n",
    "\n",
    "## Run it now"
   ]
  },
  {
   "cell_type": "code",
   "execution_count": 9,
   "metadata": {
    "collapsed": false
   },
   "outputs": [
    {
     "data": {
      "text/plain": [
       "' Lists can be combined with the + sign.\\nBelow make NewVar=Var1+Var2\\nthen print NewVar\\n(Side note, strings can be combined the same way)\\n'"
      ]
     },
     "execution_count": 9,
     "metadata": {},
     "output_type": "execute_result"
    }
   ],
   "source": [
    "\"\"\" Lists can be combined with the + sign.\n",
    "Below make NewVar=Var1+Var2\n",
    "then print NewVar\n",
    "(Side note, strings can be combined the same way)\n",
    "\"\"\"\n",
    "#Your code below here\n",
    "\n",
    "\n",
    "## Run it now"
   ]
  },
  {
   "cell_type": "code",
   "execution_count": 10,
   "metadata": {
    "collapsed": false
   },
   "outputs": [
    {
     "data": {
      "text/plain": [
       "\" Lists have some of their own options (like strings), most of these\\ndon't matter very much for now. The one that matters a lot is append.\\nMake a list Listez=[1,2,3,4,5]\\nnow run Listez.append(7) (You will notice you don't \\ndeclare a variable here! one of the few times you won't)\\nprint Listez\\n\""
      ]
     },
     "execution_count": 10,
     "metadata": {},
     "output_type": "execute_result"
    }
   ],
   "source": [
    "\"\"\" Lists have some of their own options (like strings), most of these\n",
    "don't matter very much for now. The one that matters a lot is append.\n",
    "Make a list Listez=[1,2,3,4,5]\n",
    "now run Listez.append(7) (You will notice you don't \n",
    "declare a variable here! one of the few times you won't)\n",
    "print Listez\n",
    "\"\"\"\n",
    "#Your code below here\n",
    "\n",
    "\n",
    "\n",
    "## Run it now"
   ]
  },
  {
   "cell_type": "code",
   "execution_count": 11,
   "metadata": {
    "collapsed": false
   },
   "outputs": [
    {
     "data": {
      "text/plain": [
       "\"The range command:\\n    Often it's useful to quickly make a list of numbers, we will\\n    be doing this a lot below. So heres how:\\n        \\n    range(start,finish,step)\\n    Below:\\n    print range(0,23) #all numbers from zero to 23 (not including 23)\\n    print range(1,10,2) # all numbers from one to ten stepping by 2\\n    print range(40) # all numbers from zero to 40\\n\""
      ]
     },
     "execution_count": 11,
     "metadata": {},
     "output_type": "execute_result"
    }
   ],
   "source": [
    "\"\"\"The range command:\n",
    "    Often it's useful to quickly make a list of numbers, we will\n",
    "    be doing this a lot below. So heres how:\n",
    "        \n",
    "    range(start,finish,step)\n",
    "    Below:\n",
    "    print range(0,23) #all numbers from zero to 23 (not including 23)\n",
    "    print range(1,10,2) # all numbers from one to ten stepping by 2\n",
    "    print range(40) # all numbers from zero to 40\n",
    "\"\"\"\n",
    "#Your code below here\n",
    "\n",
    "\n",
    "\n",
    "## Run it now"
   ]
  },
  {
   "cell_type": "code",
   "execution_count": 12,
   "metadata": {
    "collapsed": false
   },
   "outputs": [
    {
     "data": {
      "text/plain": [
       "\"List slicing:\\n    List slicing allows us to access elements of lists easily\\n    the basic list slice is ListVar[first:last:step]\\n    if first is left blank it defaults to 0, if last is left blank\\n    it defaults to last element of the list. if step is left blank\\n    it defaults to 1.\\n    Declare ListVar=range(25)\\n    then print ListVar[:] All of ListVar\\n    print ListVar[:10:2] From 0 to 10 by steps of 2\\n    print ListVar[1:15:3] From 1 to 15 by steps of 3\\n    print ListVar[20:0:-1] From 20 to 0 by steps of -1 !\\n    print ListVar[::-1] From list end to list beginning by -1\\n    (That last one is kind of tricky as it actually breaks the above\\n    rules, however it's VERY useful)\\n    \""
      ]
     },
     "execution_count": 12,
     "metadata": {},
     "output_type": "execute_result"
    }
   ],
   "source": [
    "\"\"\"List slicing:\n",
    "    List slicing allows us to access elements of lists easily\n",
    "    the basic list slice is ListVar[first:last:step]\n",
    "    if first is left blank it defaults to 0, if last is left blank\n",
    "    it defaults to last element of the list. if step is left blank\n",
    "    it defaults to 1.\n",
    "    Declare ListVar=range(25)\n",
    "    then print ListVar[:] All of ListVar\n",
    "    print ListVar[:10:2] From 0 to 10 by steps of 2\n",
    "    print ListVar[1:15:3] From 1 to 15 by steps of 3\n",
    "    print ListVar[20:0:-1] From 20 to 0 by steps of -1 !\n",
    "    print ListVar[::-1] From list end to list beginning by -1\n",
    "    (That last one is kind of tricky as it actually breaks the above\n",
    "    rules, however it's VERY useful)\n",
    "    \"\"\"\n",
    "#Your code below here\n",
    "\n",
    "\n",
    "\n",
    "\n",
    "\n",
    "\n",
    "## Run it now"
   ]
  },
  {
   "cell_type": "code",
   "execution_count": null,
   "metadata": {
    "collapsed": false
   },
   "outputs": [],
   "source": [
    "\"\"\" The numpy module.\n",
    "Numpy lets you quickly do complex math on lists.\n",
    "It DOES NOT use lists (though most of it's commands can operate\n",
    "on lists if you need to do something fast, but know that behind\n",
    "the scenes it is converting these lists to something else)\n",
    "It operates on arrays. An array is multidimensional list (like a\n",
    "Matrix)\n",
    "To bring numpy into our module we will call import numpy as np\n",
    "to declare an array we declare arrayVar=np.array([[]]) Note the double brackets\n",
    "Test this out!\n",
    "one line 203 type import numpy as np\n",
    "Declare ArrayVar=np.array([[1,2,3],[4,5,6]])\n",
    "print ArrayVar\n",
    "print ArrayVar**3\n",
    "print ArrayVar+2\n",
    "print ArrayVar-ArrayVar\n",
    "\"\"\"\n",
    "#Your code below here\n",
    "\n",
    "\n",
    "\n",
    "\n",
    "\n",
    "## Run it now"
   ]
  },
  {
   "cell_type": "code",
   "execution_count": null,
   "metadata": {
    "collapsed": false
   },
   "outputs": [],
   "source": [
    "\"\"\" Numpy also contains powerful tools like mean and standard deviation.\n",
    "These tools have suboptions. To view these suboptions go to your console\n",
    "type np.mean( in your object explorer, mean should show up. Note\n",
    "you can declare axis, dtype and out. Most of the time you don't\n",
    "need to declare these (as they are autodeclare to none!)\n",
    "You can use these options to perform more powerful functions.\n",
    "Most functions  only require one variable.\n",
    "To perform a function the general syntax is:\n",
    "    module.function(Variable)\n",
    "\n",
    "for instance:\n",
    "    np.mean(ArrayVar,0) Takes the mean by columns.\n",
    "    np.mean(ArrayVar,1) Takes the mean by rows.\n",
    "\n",
    "try this out:\n",
    "print np.mean(ArrayVar)\n",
    "print np.mean(ArrayVar,0)\n",
    "print np.mean(ArrayVar,1)\n",
    "\"\"\"\n",
    "#Your code below here\n",
    "\n",
    "\n",
    "\n",
    "## Run it now"
   ]
  },
  {
   "cell_type": "code",
   "execution_count": null,
   "metadata": {
    "collapsed": false
   },
   "outputs": [],
   "source": [
    "\"\"\" List slicing in 2+D.\n",
    "List slicing can be performed in multiple dimensions!\n",
    "To do this just do\n",
    "ArrayVar[firstY:LastY:StepY,FirstX:LastX:StepX]\n",
    "try it out\n",
    "print ArrayVar[:,::-1] Flips the x axis\n",
    "print ArrayVar[:,0:2] First 2 columns\n",
    "print ArrayVar[0,:] First row\n",
    "\"\"\"\n",
    "#Your code below here\n",
    "\n",
    "\n",
    "\n",
    "## Run it now"
   ]
  },
  {
   "cell_type": "code",
   "execution_count": 1,
   "metadata": {
    "collapsed": false
   },
   "outputs": [
    {
     "data": {
      "text/plain": [
       "\" Errors:\\nPython is fairly helpful, and very explicit when it comes to errors.\\nGenerally an error will tell you what line it is on, and give a 'guess' as to\\nwhat went wrong.\\n\\nTo test this make a list G=[1,2,3]\\nprint G**2\\n You should get a type error\\n \""
      ]
     },
     "execution_count": 1,
     "metadata": {},
     "output_type": "execute_result"
    }
   ],
   "source": [
    "\"\"\" Errors:\n",
    "Python is fairly helpful, and very explicit when it comes to errors.\n",
    "Generally an error will tell you what line it is on, and give a 'guess' as to\n",
    "what went wrong.\n",
    "\n",
    "To test this make a list G=[1,2,3]\n",
    "print G**2\n",
    " You should get a type error\n",
    " \"\"\"\n",
    " #Your code below here\n",
    "\n",
    "\n",
    "\n",
    "## Run it now\n"
   ]
  },
  {
   "cell_type": "code",
   "execution_count": null,
   "metadata": {
    "collapsed": false
   },
   "outputs": [],
   "source": [
    "\"\"\" To fix this, go back to cell above and declare G as G=np.array([[1,2,3]])\n",
    "now run it, the error should be gone\n",
    "\"\"\""
   ]
  }
 ],
 "metadata": {
  "kernelspec": {
   "display_name": "Python 2",
   "language": "python",
   "name": "python2"
  },
  "language_info": {
   "codemirror_mode": {
    "name": "ipython",
    "version": 2
   },
   "file_extension": ".py",
   "mimetype": "text/x-python",
   "name": "python",
   "nbconvert_exporter": "python",
   "pygments_lexer": "ipython2",
   "version": "2.7.10"
  }
 },
 "nbformat": 4,
 "nbformat_minor": 0
}
